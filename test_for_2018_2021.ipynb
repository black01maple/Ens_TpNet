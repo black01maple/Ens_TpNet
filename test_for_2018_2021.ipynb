{
 "cells": [
  {
   "cell_type": "code",
   "execution_count": 1,
   "id": "10cceb4d-e826-40d7-bf6a-4f9a557bc68f",
   "metadata": {},
   "outputs": [],
   "source": [
    "import time\n",
    "import torch, torchvision\n",
    "from torch.autograd import Variable\n",
    "import numpy as np\n",
    "import pandas as pd\n",
    "import os\n",
    "import gc\n",
    "from sklearn.preprocessing import MinMaxScaler\n",
    "from sklearn.model_selection import train_test_split\n",
    "from tqdm import tqdm\n",
    "from torch.utils.data import Dataset, DataLoader\n",
    "import datetime\n",
    "\n",
    "from DBFNet.Model import *\n",
    "import warnings"
   ]
  },
  {
   "cell_type": "code",
   "execution_count": 2,
   "id": "dc646fc0-ab4b-434c-81ba-880d9371ac75",
   "metadata": {},
   "outputs": [],
   "source": [
    "def compute_distance_km(lat1, lon1, lat2, lon2):\n",
    "    lat1, lon1, lat2, lon2 = lat1.astype('float'), lon1.astype('float'), lat2.astype('float'), lon2.astype('float')\n",
    "    # 批量计算地球上两点间的球面距离\n",
    "    R = 6371e3  # 地球半径（米）\n",
    "    phi_1, phi_2 = np.radians(lat1), np.radians(lat2)\n",
    "    delta_phi = np.radians(lat2 - lat1)\n",
    "    delta_lambda = np.radians(lon2 - lon1)\n",
    "    a = np.power(np.sin(delta_phi / 2), 2) + np.cos(phi_1) * np.cos(phi_2) * np.power(np.sin(delta_lambda / 2), 2)\n",
    "    c = 2 * np.arctan2(np.sqrt(a), np.sqrt(1 - a))\n",
    "    return R * c / 1000."
   ]
  },
  {
   "cell_type": "code",
   "execution_count": 3,
   "id": "a69d051b-0ad7-4814-8cf3-4b61c57d4ac3",
   "metadata": {},
   "outputs": [],
   "source": [
    "def data_scaler(x, feature_range=[0, 1]):\n",
    "    scaler = MinMaxScaler(feature_range=feature_range)\n",
    "    shape = x.shape\n",
    "    x = x.reshape(shape[0], -1)\n",
    "    x = scaler.fit_transform(x)\n",
    "    x = x.reshape(shape)\n",
    "    return x, scaler"
   ]
  },
  {
   "cell_type": "code",
   "execution_count": 4,
   "id": "3a6d23b2-c603-4075-ac67-44b58c5c8678",
   "metadata": {},
   "outputs": [],
   "source": [
    "class TrainLoader(Dataset):\n",
    "    def __init__(self, x, y, g, standard):\n",
    "        self.x = x\n",
    "        self.y = y\n",
    "        self.g = g\n",
    "        self.s = standard\n",
    "\n",
    "    def __getitem__(self, item):\n",
    "        return self.x[item], self.g[item, :4], self.y[item], self.g[item, 4:], self.s[item]\n",
    "\n",
    "    def __len__(self):\n",
    "        return len(self.x)"
   ]
  },
  {
   "cell_type": "code",
   "execution_count": 5,
   "id": "0d1ea8b9-6ba0-4edf-b460-f51a5130ed2e",
   "metadata": {},
   "outputs": [],
   "source": [
    "def test_2018_2021(cfg1=TC_Encoder_config, cfg2=Map_Encoder_config, checkpoint_folder='./model/',\n",
    "                   xtc_path='./CMA_dataset/xtc.npy', ytc_path='./CMA_dataset/ytc.npy', gph_path='./gph.npy',\n",
    "                   batch_size=32, is_save=True, checkpoint='./model/model_demo.pth'):\n",
    "    warnings.filterwarnings(\"ignore\")  # 关闭warning\n",
    "\n",
    "    # 载入完整数据集\n",
    "    print('载入完整数据集...')\n",
    "    xtc = np.load(xtc_path, allow_pickle=True).astype(float)\n",
    "    ytc = np.load(ytc_path, allow_pickle=True).astype(float)\n",
    "    gph = np.load(gph_path, allow_pickle=True).astype(float)\n",
    "    test_index = [*range(22227, 24614)] # 2018年至2021年的台风数据索引\n",
    "    standard = xtc[:, -1, :2].reshape(-1, 1, 2)\n",
    "\n",
    "    # 归一化\n",
    "    xtc, _ = data_scaler(xtc)\n",
    "    gph, _ = data_scaler(gph)\n",
    "\n",
    "    # 打包数据集\n",
    "    test_dataset = DataLoader(TrainLoader(xtc[test_index], ytc[test_index], gph[test_index], standard[test_index]),\n",
    "                              batch_size=batch_size, shuffle=False)\n",
    "    del xtc, ytc, standard, gph\n",
    "\n",
    "    model = DBFNet(cfg1, cfg2)\n",
    "    if torch.cuda.is_available():\n",
    "        model = model.cuda()\n",
    "    state_dict = torch.load(checkpoint)\n",
    "    model.load_state_dict(state_dict)\n",
    "\n",
    "    # 在测试集上预测\n",
    "    print('测试集上预测：')\n",
    "    model.eval()\n",
    "    pred_save, truth_save, standard_save = [], [], []\n",
    "    for X1, X2, Y1, _, S in tqdm(test_dataset):\n",
    "        if torch.cuda.is_available():\n",
    "            x1 = X1.float().cuda()\n",
    "            x2 = X2.float().cuda()\n",
    "            y1 = Y1.float().cuda()\n",
    "            s = S.float().cuda()\n",
    "        else:\n",
    "            x1 = X1.float()\n",
    "            x2 = X2.float()\n",
    "            y1 = Y1.float()\n",
    "            s = S.float()\n",
    "        pred, _ = model(x1, x2)\n",
    "        pred_save.append(pred.detach().cpu().numpy())\n",
    "        truth_save.append(y1.detach().cpu().numpy())\n",
    "        standard_save.append(s.detach().cpu().numpy())\n",
    "    # 做反归一化\n",
    "    pred_save = np.concatenate(pred_save, axis=0)\n",
    "    truth_save = np.concatenate(truth_save, axis=0)\n",
    "    standard_save = np.concatenate(standard_save, axis=0)\n",
    "    # pred_save = data_scaler_inverse(pred_save, y_scaler)\n",
    "    # 计算最终预测结果\n",
    "    pred = pred_save + standard_save\n",
    "    truth = truth_save + standard_save\n",
    "    for i in range(1, 5):\n",
    "        pred_lat, pred_lon, truth_lat, truth_lon = pred[:, i - 1, 0], pred[:, i - 1, 1], truth[:, i - 1, 0], truth[:,\n",
    "                                                                                                             i - 1, 1]\n",
    "        distance = compute_distance_km(pred_lat, pred_lon, truth_lat, truth_lon)\n",
    "        print(str(i * 6) + 'h APE', distance.mean(), ' MAE latitude:', np.abs(pred[:, i - 1, 0] - truth[:, i - 1, 0]).mean(), \n",
    "              ' MAE longitude:', np.abs(pred[:, i - 1, 1] - truth[:, i - 1, 1]).mean(), ' RMSE latitude:', np.sqrt(((pred[:, i - 1, 0] - truth[:, i - 1, 0]) ** 2).mean()),\n",
    "             ' RMSE longitude:', np.sqrt(((pred[:, i - 1, 1] - truth[:, i - 1, 1]) ** 2).mean()))"
   ]
  },
  {
   "cell_type": "code",
   "execution_count": 6,
   "id": "cdb73f14-1aac-44e0-b9e6-9553d2d9cb7b",
   "metadata": {},
   "outputs": [
    {
     "name": "stdout",
     "output_type": "stream",
     "text": [
      "载入完整数据集...\n",
      "测试集上预测：\n"
     ]
    },
    {
     "name": "stderr",
     "output_type": "stream",
     "text": [
      "100%|██████████| 75/75 [00:01<00:00, 58.79it/s]"
     ]
    },
    {
     "name": "stdout",
     "output_type": "stream",
     "text": [
      "6h APE 39.73501210493949  MAE latitude: 0.2209794  MAE longitude: 0.27022302  RMSE latitude: 0.30970362  RMSE longitude: 0.42509833\n",
      "12h APE 83.73567743841966  MAE latitude: 0.4678313  MAE longitude: 0.57108516  RMSE latitude: 0.64640456  RMSE longitude: 0.85537344\n",
      "18h APE 133.86184621412266  MAE latitude: 0.75017697  MAE longitude: 0.92322457  RMSE latitude: 1.027398  RMSE longitude: 1.343041\n",
      "24h APE 190.3670649653396  MAE latitude: 1.0742958  MAE longitude: 1.3113072  RMSE latitude: 1.4749578  RMSE longitude: 1.9104049\n"
     ]
    },
    {
     "name": "stderr",
     "output_type": "stream",
     "text": [
      "\n"
     ]
    }
   ],
   "source": [
    "test_2018_2021()"
   ]
  }
 ],
 "metadata": {
  "kernelspec": {
   "display_name": "Python 3 (ipykernel)",
   "language": "python",
   "name": "python3"
  },
  "language_info": {
   "codemirror_mode": {
    "name": "ipython",
    "version": 3
   },
   "file_extension": ".py",
   "mimetype": "text/x-python",
   "name": "python",
   "nbconvert_exporter": "python",
   "pygments_lexer": "ipython3",
   "version": "3.8.10"
  }
 },
 "nbformat": 4,
 "nbformat_minor": 5
}
