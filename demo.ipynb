{
 "cells": [
  {
   "cell_type": "code",
   "execution_count": 1,
   "id": "a4c5762a-cbd5-48f8-9937-fe10e322e312",
   "metadata": {},
   "outputs": [],
   "source": [
    "import time\n",
    "import torch, torchvision\n",
    "from torch.autograd import Variable\n",
    "import numpy as np\n",
    "import pandas as pd\n",
    "import os\n",
    "import gc\n",
    "from sklearn.preprocessing import MinMaxScaler\n",
    "from sklearn.model_selection import train_test_split\n",
    "from tqdm import tqdm\n",
    "from torch.utils.data import Dataset, DataLoader\n",
    "import datetime\n",
    "\n",
    "from DBFNet.Model import *\n",
    "import warnings"
   ]
  },
  {
   "cell_type": "markdown",
   "id": "7b6a1069-f319-498d-a566-97bbb63f1952",
   "metadata": {},
   "source": [
    "### 计算距离函数"
   ]
  },
  {
   "cell_type": "code",
   "execution_count": 2,
   "id": "8ae5d6eb-1ff1-45d1-baf6-d1d0ba92a7d2",
   "metadata": {},
   "outputs": [],
   "source": [
    "def compute_distance_km(lat1, lon1, lat2, lon2):\n",
    "    lat1, lon1, lat2, lon2 = lat1.astype('float'), lon1.astype('float'), lat2.astype('float'), lon2.astype('float')\n",
    "    # 批量计算地球上两点间的球面距离\n",
    "    R = 6371e3  # 地球半径（米）\n",
    "    phi_1, phi_2 = np.radians(lat1), np.radians(lat2)\n",
    "    delta_phi = np.radians(lat2 - lat1)\n",
    "    delta_lambda = np.radians(lon2 - lon1)\n",
    "    a = np.power(np.sin(delta_phi / 2), 2) + np.cos(phi_1) * np.cos(phi_2) * np.power(np.sin(delta_lambda / 2), 2)\n",
    "    c = 2 * np.arctan2(np.sqrt(a), np.sqrt(1 - a))\n",
    "    return R * c / 1000."
   ]
  },
  {
   "cell_type": "markdown",
   "id": "c4082641-e9f7-48c9-95eb-2ce8c896a4db",
   "metadata": {},
   "source": [
    "### 归一化函数"
   ]
  },
  {
   "cell_type": "code",
   "execution_count": 3,
   "id": "53b39e87-7cca-4ca1-be8c-c96871f6b55f",
   "metadata": {},
   "outputs": [],
   "source": [
    "def data_scaler(x, feature_range=[0, 1]):\n",
    "    scaler = MinMaxScaler(feature_range=feature_range)\n",
    "    shape = x.shape\n",
    "    x = x.reshape(shape[0], -1)\n",
    "    x = scaler.fit_transform(x)\n",
    "    x = x.reshape(shape)\n",
    "    return x, scaler"
   ]
  },
  {
   "cell_type": "markdown",
   "id": "a103f51f-4ce7-4aaa-9c3d-09d387e887d4",
   "metadata": {},
   "source": [
    "### 数据集相关类"
   ]
  },
  {
   "cell_type": "code",
   "execution_count": 4,
   "id": "b54379cd-fad7-4ab2-a999-6e2fe6bfe8ee",
   "metadata": {},
   "outputs": [],
   "source": [
    "class TC_PreTrainLoader(Dataset):\n",
    "    def __init__(self, pretrain_tc):\n",
    "        self.tc = pretrain_tc\n",
    "\n",
    "    def __getitem__(self, index):\n",
    "        return self.tc[index, :, :-2], self.tc[index, :, -2:]\n",
    "\n",
    "    def __len__(self):\n",
    "        return self.tc.shape[0]\n",
    "    \n",
    "class GPH_PreTrainLoader(Dataset):\n",
    "    def __init__(self, gph):\n",
    "        self.g = gph\n",
    "\n",
    "    def __getitem__(self, item):\n",
    "        return self.g[item, :4], self.g[item, 4:]\n",
    "\n",
    "    def __len__(self):\n",
    "        return len(self.g)\n",
    "\n",
    "class TrainLoader(Dataset):\n",
    "    def __init__(self, x, y, g, standard):\n",
    "        self.x = x\n",
    "        self.y = y\n",
    "        self.g = g\n",
    "        self.s = standard\n",
    "\n",
    "    def __getitem__(self, item):\n",
    "        return self.x[item], self.g[item, :4], self.y[item], self.g[item, 4:], self.s[item]\n",
    "\n",
    "    def __len__(self):\n",
    "        return len(self.x)"
   ]
  },
  {
   "cell_type": "markdown",
   "id": "325f932f-639d-4f08-850f-4eefdf54eed4",
   "metadata": {},
   "source": [
    "### 训练函数"
   ]
  },
  {
   "cell_type": "code",
   "execution_count": 5,
   "id": "1a5e48e9-bbc7-4dcb-bf83-d4e109730385",
   "metadata": {},
   "outputs": [],
   "source": [
    "def train(cfg1=TC_Encoder_config, cfg2=Map_Encoder_config, checkpoint=None,\n",
    "          tc_pretrain_path='./CMA_dataset/CMA_csv/xtc_pretrain_data.npy', xtc_path='./CMA_dataset/xtc.npy',\n",
    "          ytc_path='./CMA_dataset/ytc.npy', split_index_path='./CMA_dataset/split_index.npy', gph_path='./gph.npy',\n",
    "          tc_pretrain_epoch=50, tc_pretrain_lr=0.01, gph_pretrain_epoch=50, gph_pretrain_lr=0.01, batch_size=32,\n",
    "          epoch=50, lr=0.001, model_save_path='./model/model001.pth'):\n",
    "    warnings.filterwarnings(\"ignore\") # 关闭warning\n",
    "\n",
    "    model = DBFNet(cfg1, cfg2)\n",
    "    if checkpoint is not None:\n",
    "        state_dict = torch.load(checkpoint)\n",
    "        model.load_state_dict(state_dict)\n",
    "    criterion = nn.L1Loss()\n",
    "    if torch.cuda.is_available():\n",
    "        model = model.cuda()\n",
    "\n",
    "\n",
    "    # 载入TC预训练数据\n",
    "    print('处理TC Encoder预训练数据：', end='')\n",
    "    pre_tc = np.load(tc_pretrain_path)\n",
    "    pre_tc, pre_tc_scaler = data_scaler(pre_tc)\n",
    "    pre_tc = DataLoader(TC_PreTrainLoader(pre_tc), batch_size=batch_size, shuffle=True)\n",
    "    print('完成')\n",
    "\n",
    "    # TC Encoder预训练\n",
    "    print('TC Encoder 预训练：')\n",
    "    model.train()\n",
    "    for i in range(tc_pretrain_epoch):\n",
    "        optimizer = torch.optim.Adam(model.parameters(), lr=tc_pretrain_lr * (0.1 ** (i // 20)))\n",
    "        # print(tc_pretrain_lr * (0.1 ** (i // 20)))\n",
    "        time1 = datetime.datetime.now()\n",
    "        pretrain_loss = 0\n",
    "        for X, Y in pre_tc:\n",
    "            if torch.cuda.is_available():\n",
    "                x = X.float().cuda()\n",
    "                y = Y.float().cuda()\n",
    "            else:\n",
    "                x = X.float()\n",
    "                y = Y.float()\n",
    "            optimizer.zero_grad()\n",
    "            pred = model.pretrain_tc_forward(x)\n",
    "            loss = criterion(pred, y)\n",
    "            loss.backward()\n",
    "            optimizer.step()\n",
    "            pretrain_loss += loss.detach().item()\n",
    "        time2 = datetime.datetime.now()\n",
    "        print('Pretrain TC [%d/%d] cost:%ds train_loss: %.5f' % (\n",
    "        i + 1, tc_pretrain_epoch, (time2 - time1).seconds, pretrain_loss))\n",
    "    del pre_tc # 降低内存占用\n",
    "\n",
    "\n",
    "    # 载入完整数据集\n",
    "    print('载入完整数据集...')\n",
    "    xtc = np.load(xtc_path, allow_pickle=True).astype(float)\n",
    "    ytc = np.load(ytc_path, allow_pickle=True).astype(float)\n",
    "    split_index = np.load(split_index_path, allow_pickle=True).astype(int)\n",
    "    gph = np.load(gph_path, allow_pickle=True).astype(float)\n",
    "    full_train_index = [*range(split_index[0], split_index[2])]\n",
    "    test_index = [*range(split_index[2], split_index[3])]\n",
    "    standard = xtc[:, -1, :2].reshape(-1, 1, 2)\n",
    "\n",
    "\n",
    "    # 归一化\n",
    "    xtc, _ = data_scaler(xtc)\n",
    "    # _ , y_scaler = data_scaler(ytc)\n",
    "    gph, _ = data_scaler(gph)\n",
    "    # gph, _ = data_scaler(gph)\n",
    "\n",
    "    # 打包GPH预训练数据\n",
    "    pre_gph = DataLoader(GPH_PreTrainLoader(gph), batch_size=batch_size, shuffle=True, drop_last=True)\n",
    "\n",
    "    # GPH Encoder-Decoder预训练\n",
    "    print('GPH Encoder-Decoder 预训练：')\n",
    "    model.train()\n",
    "    for i in range(gph_pretrain_epoch):\n",
    "        optimizer = torch.optim.Adam(model.parameters(), lr=gph_pretrain_lr * (0.1 ** (i // 20)))\n",
    "        time1 = datetime.datetime.now()\n",
    "        pretrain_loss = 0\n",
    "        for X, Y in tqdm(pre_gph):\n",
    "            if torch.cuda.is_available():\n",
    "                x = X.float().cuda()\n",
    "                y = Y.float().cuda()\n",
    "            else:\n",
    "                x = X.float()\n",
    "                y = Y.float()\n",
    "            optimizer.zero_grad()\n",
    "            pred = model.pretrain_map_forward(x)\n",
    "            loss = criterion(pred, y)\n",
    "            loss.backward()\n",
    "            # print([x.grad for x in optimizer.param_groups[0]['params']])\n",
    "            optimizer.step()\n",
    "            pretrain_loss += loss.detach().item()\n",
    "        time2 = datetime.datetime.now()\n",
    "        print('Pretrain GPH [%d/%d] cost:%ds train_loss: %.5f' % (i + 1, gph_pretrain_epoch, (time2 - time1).seconds,\n",
    "                                                                  pretrain_loss))\n",
    "    del pre_gph # 降低内存占用\n",
    "\n",
    "\n",
    "    # 从训练数据中划分训练集和验证集\n",
    "    train_index, val_index, _, _ = train_test_split(full_train_index, full_train_index, test_size=0.2)\n",
    "    # 打包数据集\n",
    "    train_dataset = DataLoader(TrainLoader(xtc[train_index], ytc[train_index], gph[train_index], standard[train_index]),\n",
    "                               batch_size=batch_size, shuffle=True)\n",
    "    val_dataset = DataLoader(TrainLoader(xtc[val_index], ytc[val_index], gph[val_index], standard[val_index]),\n",
    "                             batch_size=batch_size, shuffle=True)\n",
    "    test_dataset = DataLoader(TrainLoader(xtc[test_index], ytc[test_index], gph[test_index], standard[test_index]),\n",
    "                              batch_size=batch_size, shuffle=False)\n",
    "    del xtc, ytc, gph, split_index # 降低内存占用\n",
    "\n",
    "    # 整个模型训练\n",
    "    print('完整模型训练：')\n",
    "    for i in range(epoch):\n",
    "        optimizer = torch.optim.Adam(model.parameters(), lr=lr * (0.1 ** (i // 20)))\n",
    "        # 训练集\n",
    "        time1 = datetime.datetime.now()\n",
    "        model.train()\n",
    "        train_loss1, train_loss2 = 0, 0\n",
    "        for X1, X2, Y1, Y2, _ in tqdm(train_dataset):\n",
    "            if torch.cuda.is_available():\n",
    "                x1 = X1.float().cuda()\n",
    "                x2 = X2.float().cuda()\n",
    "                y1 = Y1.float().cuda()\n",
    "                y2 = Y2.float().cuda()\n",
    "            else:\n",
    "                x1 = X1.float()\n",
    "                x2 = X2.float()\n",
    "                y1 = Y1.float()\n",
    "                y2 = Y2.float()\n",
    "            optimizer.zero_grad()\n",
    "            pred1, pred2 = model(x1, x2)\n",
    "            loss1 = criterion(pred1, y1)\n",
    "            loss2 = criterion(pred2, y2)\n",
    "            loss = loss1 + loss2\n",
    "            loss.backward()\n",
    "            optimizer.step()\n",
    "            train_loss1 += loss1.detach().item()\n",
    "            train_loss2 += loss2.detach().item()\n",
    "        torch.save(model.state_dict(), model_save_path)\n",
    "        time2 = datetime.datetime.now()\n",
    "        print('[%d/%d] Train cost:%ds loss: %.5f/%.5f' % (i + 1, epoch, (time2 - time1).seconds, train_loss1, train_loss2), end=' ')\n",
    "        # 验证集\n",
    "        model.eval()\n",
    "        with torch.no_grad():\n",
    "            time1 = datetime.datetime.now()\n",
    "            val_loss1, val_loss2 = 0, 0\n",
    "            for X1, X2, Y1, Y2, _ in val_dataset:\n",
    "                if torch.cuda.is_available():\n",
    "                    x1 = X1.float().cuda()\n",
    "                    x2 = X2.float().cuda()\n",
    "                    y1 = Y1.float().cuda()\n",
    "                    y2 = Y2.float().cuda()\n",
    "                else:\n",
    "                    x1 = X1.float()\n",
    "                    x2 = X2.float()\n",
    "                    y1 = Y1.float()\n",
    "                    y2 = Y2.float()\n",
    "                pred1, pred2 = model(x1, x2)\n",
    "                loss1 = criterion(pred1, y1)\n",
    "                loss2 = criterion(pred2, y2)\n",
    "                val_loss1 += loss1.detach().item()\n",
    "                val_loss2 += loss2.detach().item()\n",
    "            time2 = datetime.datetime.now()\n",
    "        print('  ||  Valid cost:%ds loss: %.5f/%.5f' % ((time2 - time1).seconds, val_loss1, val_loss2))\n",
    "    print('训练完成')\n",
    "\n",
    "    # 在测试集上预测\n",
    "    print('测试集上预测：')\n",
    "    model.eval()\n",
    "    pred_save, truth_save, standard_save = [], [], []\n",
    "    for X1, X2, Y1, _, S in tqdm(test_dataset):\n",
    "        if torch.cuda.is_available():\n",
    "            x1 = X1.float().cuda()\n",
    "            x2 = X2.float().cuda()\n",
    "            y1 = Y1.float().cuda()\n",
    "            s = S.float().cuda()\n",
    "        else:\n",
    "            x1 = X1.float()\n",
    "            x2 = X2.float()\n",
    "            y1 = Y1.float()\n",
    "            s = S.float()\n",
    "        pred, _ = model(x1, x2)\n",
    "        pred_save.append(pred.detach().cpu().numpy())\n",
    "        truth_save.append(y1.detach().cpu().numpy())\n",
    "        standard_save.append(s.detach().cpu().numpy())\n",
    "    # 做反归一化\n",
    "    pred_save = np.concatenate(pred_save, axis=0)\n",
    "    truth_save = np.concatenate(truth_save, axis=0)\n",
    "    standard_save = np.concatenate(standard_save, axis=0)\n",
    "    # pred_save = data_scaler_inverse(pred_save, y_scaler)\n",
    "    # 计算最终预测结果\n",
    "    pred = pred_save + standard_save\n",
    "    truth = truth_save + standard_save\n",
    "    for i in range(1, 5):\n",
    "        pred_lat, pred_lon, truth_lat, truth_lon = pred[:, i - 1, 0], pred[:, i - 1, 1], truth[:, i - 1, 0], truth[:, i - 1, 1]\n",
    "        distance = compute_distance_km(pred_lat, pred_lon, truth_lat, truth_lon)\n",
    "        print(str(i * 6) + 'h APE：', distance.mean())"
   ]
  },
  {
   "cell_type": "markdown",
   "id": "b7f94591-8ddb-407c-9eb0-ed8c82479e5e",
   "metadata": {},
   "source": [
    "### 训练"
   ]
  },
  {
   "cell_type": "code",
   "execution_count": 6,
   "id": "2e333c23-bd38-49f2-bf5b-b6ca9804b405",
   "metadata": {},
   "outputs": [
    {
     "name": "stdout",
     "output_type": "stream",
     "text": [
      "处理TC Encoder预训练数据：完成\n",
      "TC Encoder 预训练：\n",
      "Pretrain TC [1/50] cost:1s train_loss: 16.89595\n",
      "Pretrain TC [2/50] cost:1s train_loss: 5.94226\n",
      "Pretrain TC [3/50] cost:1s train_loss: 5.21437\n",
      "Pretrain TC [4/50] cost:1s train_loss: 4.73386\n",
      "Pretrain TC [5/50] cost:1s train_loss: 4.44967\n",
      "Pretrain TC [6/50] cost:1s train_loss: 4.24450\n",
      "Pretrain TC [7/50] cost:1s train_loss: 3.96177\n",
      "Pretrain TC [8/50] cost:1s train_loss: 4.01570\n",
      "Pretrain TC [9/50] cost:1s train_loss: 3.90488\n",
      "Pretrain TC [10/50] cost:1s train_loss: 3.81908\n",
      "Pretrain TC [11/50] cost:1s train_loss: 3.81404\n",
      "Pretrain TC [12/50] cost:1s train_loss: 3.70426\n",
      "Pretrain TC [13/50] cost:1s train_loss: 3.70496\n",
      "Pretrain TC [14/50] cost:1s train_loss: 3.61890\n",
      "Pretrain TC [15/50] cost:1s train_loss: 3.60796\n",
      "Pretrain TC [16/50] cost:1s train_loss: 3.51278\n",
      "Pretrain TC [17/50] cost:1s train_loss: 3.60853\n",
      "Pretrain TC [18/50] cost:1s train_loss: 3.36293\n",
      "Pretrain TC [19/50] cost:1s train_loss: 3.43408\n",
      "Pretrain TC [20/50] cost:1s train_loss: 3.26364\n",
      "Pretrain TC [21/50] cost:1s train_loss: 2.48463\n",
      "Pretrain TC [22/50] cost:1s train_loss: 2.48393\n",
      "Pretrain TC [23/50] cost:1s train_loss: 2.47618\n",
      "Pretrain TC [24/50] cost:1s train_loss: 2.47782\n",
      "Pretrain TC [25/50] cost:1s train_loss: 2.46854\n",
      "Pretrain TC [26/50] cost:1s train_loss: 2.46334\n",
      "Pretrain TC [27/50] cost:1s train_loss: 2.46783\n",
      "Pretrain TC [28/50] cost:1s train_loss: 2.46637\n",
      "Pretrain TC [29/50] cost:1s train_loss: 2.46558\n",
      "Pretrain TC [30/50] cost:1s train_loss: 2.45686\n",
      "Pretrain TC [31/50] cost:1s train_loss: 2.46319\n",
      "Pretrain TC [32/50] cost:1s train_loss: 2.45608\n",
      "Pretrain TC [33/50] cost:1s train_loss: 2.45928\n",
      "Pretrain TC [34/50] cost:1s train_loss: 2.45782\n",
      "Pretrain TC [35/50] cost:1s train_loss: 2.45437\n",
      "Pretrain TC [36/50] cost:1s train_loss: 2.44872\n",
      "Pretrain TC [37/50] cost:1s train_loss: 2.45581\n",
      "Pretrain TC [38/50] cost:1s train_loss: 2.45535\n",
      "Pretrain TC [39/50] cost:1s train_loss: 2.45056\n",
      "Pretrain TC [40/50] cost:1s train_loss: 2.45210\n",
      "Pretrain TC [41/50] cost:1s train_loss: 2.38488\n",
      "Pretrain TC [42/50] cost:1s train_loss: 2.38362\n",
      "Pretrain TC [43/50] cost:1s train_loss: 2.38313\n",
      "Pretrain TC [44/50] cost:1s train_loss: 2.38236\n",
      "Pretrain TC [45/50] cost:1s train_loss: 2.38404\n",
      "Pretrain TC [46/50] cost:1s train_loss: 2.38305\n",
      "Pretrain TC [47/50] cost:1s train_loss: 2.38168\n",
      "Pretrain TC [48/50] cost:1s train_loss: 2.38207\n",
      "Pretrain TC [49/50] cost:1s train_loss: 2.38185\n",
      "Pretrain TC [50/50] cost:1s train_loss: 2.38171\n",
      "载入完整数据集...\n",
      "GPH Encoder-Decoder 预训练：\n"
     ]
    },
    {
     "name": "stderr",
     "output_type": "stream",
     "text": [
      "100%|██████████| 781/781 [00:30<00:00, 25.86it/s]\n"
     ]
    },
    {
     "name": "stdout",
     "output_type": "stream",
     "text": [
      "Pretrain GPH [1/50] cost:30s train_loss: 49.09777\n"
     ]
    },
    {
     "name": "stderr",
     "output_type": "stream",
     "text": [
      "100%|██████████| 781/781 [00:31<00:00, 24.43it/s]\n"
     ]
    },
    {
     "name": "stdout",
     "output_type": "stream",
     "text": [
      "Pretrain GPH [2/50] cost:31s train_loss: 38.30277\n"
     ]
    },
    {
     "name": "stderr",
     "output_type": "stream",
     "text": [
      "100%|██████████| 781/781 [00:31<00:00, 24.77it/s]\n"
     ]
    },
    {
     "name": "stdout",
     "output_type": "stream",
     "text": [
      "Pretrain GPH [3/50] cost:31s train_loss: 34.52732\n"
     ]
    },
    {
     "name": "stderr",
     "output_type": "stream",
     "text": [
      "100%|██████████| 781/781 [00:32<00:00, 23.90it/s]\n"
     ]
    },
    {
     "name": "stdout",
     "output_type": "stream",
     "text": [
      "Pretrain GPH [4/50] cost:32s train_loss: 33.38972\n"
     ]
    },
    {
     "name": "stderr",
     "output_type": "stream",
     "text": [
      "100%|██████████| 781/781 [00:32<00:00, 24.31it/s]\n"
     ]
    },
    {
     "name": "stdout",
     "output_type": "stream",
     "text": [
      "Pretrain GPH [5/50] cost:32s train_loss: 31.90945\n"
     ]
    },
    {
     "name": "stderr",
     "output_type": "stream",
     "text": [
      "100%|██████████| 781/781 [00:31<00:00, 24.57it/s]\n"
     ]
    },
    {
     "name": "stdout",
     "output_type": "stream",
     "text": [
      "Pretrain GPH [6/50] cost:31s train_loss: 32.94148\n"
     ]
    },
    {
     "name": "stderr",
     "output_type": "stream",
     "text": [
      "100%|██████████| 781/781 [00:32<00:00, 23.78it/s]\n"
     ]
    },
    {
     "name": "stdout",
     "output_type": "stream",
     "text": [
      "Pretrain GPH [7/50] cost:32s train_loss: 31.21187\n"
     ]
    },
    {
     "name": "stderr",
     "output_type": "stream",
     "text": [
      "100%|██████████| 781/781 [00:31<00:00, 25.03it/s]\n"
     ]
    },
    {
     "name": "stdout",
     "output_type": "stream",
     "text": [
      "Pretrain GPH [8/50] cost:31s train_loss: 30.64280\n"
     ]
    },
    {
     "name": "stderr",
     "output_type": "stream",
     "text": [
      "100%|██████████| 781/781 [00:31<00:00, 24.61it/s]\n"
     ]
    },
    {
     "name": "stdout",
     "output_type": "stream",
     "text": [
      "Pretrain GPH [9/50] cost:31s train_loss: 30.27454\n"
     ]
    },
    {
     "name": "stderr",
     "output_type": "stream",
     "text": [
      "100%|██████████| 781/781 [00:30<00:00, 25.35it/s]\n"
     ]
    },
    {
     "name": "stdout",
     "output_type": "stream",
     "text": [
      "Pretrain GPH [10/50] cost:30s train_loss: 33.84336\n"
     ]
    },
    {
     "name": "stderr",
     "output_type": "stream",
     "text": [
      "100%|██████████| 781/781 [00:31<00:00, 24.99it/s]\n"
     ]
    },
    {
     "name": "stdout",
     "output_type": "stream",
     "text": [
      "Pretrain GPH [11/50] cost:31s train_loss: 31.39143\n"
     ]
    },
    {
     "name": "stderr",
     "output_type": "stream",
     "text": [
      "100%|██████████| 781/781 [00:32<00:00, 24.27it/s]\n"
     ]
    },
    {
     "name": "stdout",
     "output_type": "stream",
     "text": [
      "Pretrain GPH [12/50] cost:32s train_loss: 33.74748\n"
     ]
    },
    {
     "name": "stderr",
     "output_type": "stream",
     "text": [
      "100%|██████████| 781/781 [00:30<00:00, 25.64it/s]\n"
     ]
    },
    {
     "name": "stdout",
     "output_type": "stream",
     "text": [
      "Pretrain GPH [13/50] cost:30s train_loss: 31.01718\n"
     ]
    },
    {
     "name": "stderr",
     "output_type": "stream",
     "text": [
      "100%|██████████| 781/781 [00:30<00:00, 25.46it/s]\n"
     ]
    },
    {
     "name": "stdout",
     "output_type": "stream",
     "text": [
      "Pretrain GPH [14/50] cost:30s train_loss: 31.38599\n"
     ]
    },
    {
     "name": "stderr",
     "output_type": "stream",
     "text": [
      "100%|██████████| 781/781 [00:32<00:00, 24.39it/s]\n"
     ]
    },
    {
     "name": "stdout",
     "output_type": "stream",
     "text": [
      "Pretrain GPH [15/50] cost:32s train_loss: 29.78042\n"
     ]
    },
    {
     "name": "stderr",
     "output_type": "stream",
     "text": [
      "100%|██████████| 781/781 [00:30<00:00, 26.00it/s]\n"
     ]
    },
    {
     "name": "stdout",
     "output_type": "stream",
     "text": [
      "Pretrain GPH [16/50] cost:30s train_loss: 29.12757\n"
     ]
    },
    {
     "name": "stderr",
     "output_type": "stream",
     "text": [
      "100%|██████████| 781/781 [00:31<00:00, 24.53it/s]\n"
     ]
    },
    {
     "name": "stdout",
     "output_type": "stream",
     "text": [
      "Pretrain GPH [17/50] cost:31s train_loss: 29.01195\n"
     ]
    },
    {
     "name": "stderr",
     "output_type": "stream",
     "text": [
      "100%|██████████| 781/781 [00:31<00:00, 24.56it/s]\n"
     ]
    },
    {
     "name": "stdout",
     "output_type": "stream",
     "text": [
      "Pretrain GPH [18/50] cost:31s train_loss: 28.63931\n"
     ]
    },
    {
     "name": "stderr",
     "output_type": "stream",
     "text": [
      "100%|██████████| 781/781 [00:30<00:00, 25.21it/s]\n"
     ]
    },
    {
     "name": "stdout",
     "output_type": "stream",
     "text": [
      "Pretrain GPH [19/50] cost:30s train_loss: 28.35382\n"
     ]
    },
    {
     "name": "stderr",
     "output_type": "stream",
     "text": [
      "100%|██████████| 781/781 [00:31<00:00, 24.45it/s]\n"
     ]
    },
    {
     "name": "stdout",
     "output_type": "stream",
     "text": [
      "Pretrain GPH [20/50] cost:31s train_loss: 28.14558\n"
     ]
    },
    {
     "name": "stderr",
     "output_type": "stream",
     "text": [
      "100%|██████████| 781/781 [00:31<00:00, 25.01it/s]\n"
     ]
    },
    {
     "name": "stdout",
     "output_type": "stream",
     "text": [
      "Pretrain GPH [21/50] cost:31s train_loss: 26.23186\n"
     ]
    },
    {
     "name": "stderr",
     "output_type": "stream",
     "text": [
      "100%|██████████| 781/781 [00:31<00:00, 24.56it/s]\n"
     ]
    },
    {
     "name": "stdout",
     "output_type": "stream",
     "text": [
      "Pretrain GPH [22/50] cost:31s train_loss: 26.07834\n"
     ]
    },
    {
     "name": "stderr",
     "output_type": "stream",
     "text": [
      "100%|██████████| 781/781 [00:31<00:00, 24.75it/s]\n"
     ]
    },
    {
     "name": "stdout",
     "output_type": "stream",
     "text": [
      "Pretrain GPH [23/50] cost:31s train_loss: 26.02798\n"
     ]
    },
    {
     "name": "stderr",
     "output_type": "stream",
     "text": [
      "100%|██████████| 781/781 [00:33<00:00, 23.51it/s]\n"
     ]
    },
    {
     "name": "stdout",
     "output_type": "stream",
     "text": [
      "Pretrain GPH [24/50] cost:33s train_loss: 26.00646\n"
     ]
    },
    {
     "name": "stderr",
     "output_type": "stream",
     "text": [
      "100%|██████████| 781/781 [00:31<00:00, 24.46it/s]\n"
     ]
    },
    {
     "name": "stdout",
     "output_type": "stream",
     "text": [
      "Pretrain GPH [25/50] cost:31s train_loss: 25.93066\n"
     ]
    },
    {
     "name": "stderr",
     "output_type": "stream",
     "text": [
      "100%|██████████| 781/781 [00:32<00:00, 24.12it/s]\n"
     ]
    },
    {
     "name": "stdout",
     "output_type": "stream",
     "text": [
      "Pretrain GPH [26/50] cost:32s train_loss: 25.88453\n"
     ]
    },
    {
     "name": "stderr",
     "output_type": "stream",
     "text": [
      "100%|██████████| 781/781 [00:31<00:00, 25.04it/s]\n"
     ]
    },
    {
     "name": "stdout",
     "output_type": "stream",
     "text": [
      "Pretrain GPH [27/50] cost:31s train_loss: 25.82839\n"
     ]
    },
    {
     "name": "stderr",
     "output_type": "stream",
     "text": [
      "100%|██████████| 781/781 [00:30<00:00, 25.81it/s]\n"
     ]
    },
    {
     "name": "stdout",
     "output_type": "stream",
     "text": [
      "Pretrain GPH [28/50] cost:30s train_loss: 25.79395\n"
     ]
    },
    {
     "name": "stderr",
     "output_type": "stream",
     "text": [
      "100%|██████████| 781/781 [00:30<00:00, 25.62it/s]\n"
     ]
    },
    {
     "name": "stdout",
     "output_type": "stream",
     "text": [
      "Pretrain GPH [29/50] cost:30s train_loss: 25.89359\n"
     ]
    },
    {
     "name": "stderr",
     "output_type": "stream",
     "text": [
      "100%|██████████| 781/781 [00:31<00:00, 24.50it/s]\n"
     ]
    },
    {
     "name": "stdout",
     "output_type": "stream",
     "text": [
      "Pretrain GPH [30/50] cost:31s train_loss: 25.75082\n"
     ]
    },
    {
     "name": "stderr",
     "output_type": "stream",
     "text": [
      "100%|██████████| 781/781 [00:30<00:00, 25.54it/s]\n"
     ]
    },
    {
     "name": "stdout",
     "output_type": "stream",
     "text": [
      "Pretrain GPH [31/50] cost:30s train_loss: 25.71268\n"
     ]
    },
    {
     "name": "stderr",
     "output_type": "stream",
     "text": [
      "100%|██████████| 781/781 [00:31<00:00, 24.58it/s]\n"
     ]
    },
    {
     "name": "stdout",
     "output_type": "stream",
     "text": [
      "Pretrain GPH [32/50] cost:31s train_loss: 25.73016\n"
     ]
    },
    {
     "name": "stderr",
     "output_type": "stream",
     "text": [
      "100%|██████████| 781/781 [00:32<00:00, 24.25it/s]\n"
     ]
    },
    {
     "name": "stdout",
     "output_type": "stream",
     "text": [
      "Pretrain GPH [33/50] cost:32s train_loss: 25.66151\n"
     ]
    },
    {
     "name": "stderr",
     "output_type": "stream",
     "text": [
      "100%|██████████| 781/781 [00:31<00:00, 24.41it/s]\n"
     ]
    },
    {
     "name": "stdout",
     "output_type": "stream",
     "text": [
      "Pretrain GPH [34/50] cost:32s train_loss: 25.60192\n"
     ]
    },
    {
     "name": "stderr",
     "output_type": "stream",
     "text": [
      "100%|██████████| 781/781 [00:31<00:00, 25.06it/s]\n"
     ]
    },
    {
     "name": "stdout",
     "output_type": "stream",
     "text": [
      "Pretrain GPH [35/50] cost:31s train_loss: 25.57385\n"
     ]
    },
    {
     "name": "stderr",
     "output_type": "stream",
     "text": [
      "100%|██████████| 781/781 [00:30<00:00, 25.27it/s]\n"
     ]
    },
    {
     "name": "stdout",
     "output_type": "stream",
     "text": [
      "Pretrain GPH [36/50] cost:30s train_loss: 25.58441\n"
     ]
    },
    {
     "name": "stderr",
     "output_type": "stream",
     "text": [
      "100%|██████████| 781/781 [00:32<00:00, 24.33it/s]\n"
     ]
    },
    {
     "name": "stdout",
     "output_type": "stream",
     "text": [
      "Pretrain GPH [37/50] cost:32s train_loss: 25.60092\n"
     ]
    },
    {
     "name": "stderr",
     "output_type": "stream",
     "text": [
      "100%|██████████| 781/781 [00:31<00:00, 25.11it/s]\n"
     ]
    },
    {
     "name": "stdout",
     "output_type": "stream",
     "text": [
      "Pretrain GPH [38/50] cost:31s train_loss: 25.53858\n"
     ]
    },
    {
     "name": "stderr",
     "output_type": "stream",
     "text": [
      "100%|██████████| 781/781 [00:32<00:00, 23.98it/s]\n"
     ]
    },
    {
     "name": "stdout",
     "output_type": "stream",
     "text": [
      "Pretrain GPH [39/50] cost:32s train_loss: 25.47760\n"
     ]
    },
    {
     "name": "stderr",
     "output_type": "stream",
     "text": [
      "100%|██████████| 781/781 [00:29<00:00, 26.65it/s]\n"
     ]
    },
    {
     "name": "stdout",
     "output_type": "stream",
     "text": [
      "Pretrain GPH [40/50] cost:29s train_loss: 25.46589\n"
     ]
    },
    {
     "name": "stderr",
     "output_type": "stream",
     "text": [
      "100%|██████████| 781/781 [00:32<00:00, 24.11it/s]\n"
     ]
    },
    {
     "name": "stdout",
     "output_type": "stream",
     "text": [
      "Pretrain GPH [41/50] cost:32s train_loss: 25.17490\n"
     ]
    },
    {
     "name": "stderr",
     "output_type": "stream",
     "text": [
      "100%|██████████| 781/781 [00:31<00:00, 24.81it/s]\n"
     ]
    },
    {
     "name": "stdout",
     "output_type": "stream",
     "text": [
      "Pretrain GPH [42/50] cost:31s train_loss: 25.18003\n"
     ]
    },
    {
     "name": "stderr",
     "output_type": "stream",
     "text": [
      "100%|██████████| 781/781 [00:32<00:00, 24.37it/s]\n"
     ]
    },
    {
     "name": "stdout",
     "output_type": "stream",
     "text": [
      "Pretrain GPH [43/50] cost:32s train_loss: 25.16581\n"
     ]
    },
    {
     "name": "stderr",
     "output_type": "stream",
     "text": [
      "100%|██████████| 781/781 [00:32<00:00, 24.08it/s]\n"
     ]
    },
    {
     "name": "stdout",
     "output_type": "stream",
     "text": [
      "Pretrain GPH [44/50] cost:32s train_loss: 25.16347\n"
     ]
    },
    {
     "name": "stderr",
     "output_type": "stream",
     "text": [
      "100%|██████████| 781/781 [00:32<00:00, 24.31it/s]\n"
     ]
    },
    {
     "name": "stdout",
     "output_type": "stream",
     "text": [
      "Pretrain GPH [45/50] cost:32s train_loss: 25.15883\n"
     ]
    },
    {
     "name": "stderr",
     "output_type": "stream",
     "text": [
      "100%|██████████| 781/781 [00:28<00:00, 26.93it/s]\n"
     ]
    },
    {
     "name": "stdout",
     "output_type": "stream",
     "text": [
      "Pretrain GPH [46/50] cost:29s train_loss: 25.14436\n"
     ]
    },
    {
     "name": "stderr",
     "output_type": "stream",
     "text": [
      "100%|██████████| 781/781 [00:30<00:00, 25.24it/s]\n"
     ]
    },
    {
     "name": "stdout",
     "output_type": "stream",
     "text": [
      "Pretrain GPH [47/50] cost:30s train_loss: 25.14160\n"
     ]
    },
    {
     "name": "stderr",
     "output_type": "stream",
     "text": [
      "100%|██████████| 781/781 [00:31<00:00, 24.89it/s]\n"
     ]
    },
    {
     "name": "stdout",
     "output_type": "stream",
     "text": [
      "Pretrain GPH [48/50] cost:31s train_loss: 25.13789\n"
     ]
    },
    {
     "name": "stderr",
     "output_type": "stream",
     "text": [
      "100%|██████████| 781/781 [00:28<00:00, 27.03it/s]\n"
     ]
    },
    {
     "name": "stdout",
     "output_type": "stream",
     "text": [
      "Pretrain GPH [49/50] cost:28s train_loss: 25.14022\n"
     ]
    },
    {
     "name": "stderr",
     "output_type": "stream",
     "text": [
      "100%|██████████| 781/781 [00:31<00:00, 24.59it/s]\n"
     ]
    },
    {
     "name": "stdout",
     "output_type": "stream",
     "text": [
      "Pretrain GPH [50/50] cost:31s train_loss: 25.13566\n",
      "完整模型训练：\n"
     ]
    },
    {
     "name": "stderr",
     "output_type": "stream",
     "text": [
      "100%|██████████| 533/533 [00:25<00:00, 20.80it/s]\n"
     ]
    },
    {
     "name": "stdout",
     "output_type": "stream",
     "text": [
      "[1/50] Train cost:25s loss: 559.11410/18.65412   ||  Valid cost:2s loss: 119.34774/5.14872\n"
     ]
    },
    {
     "name": "stderr",
     "output_type": "stream",
     "text": [
      "100%|██████████| 533/533 [00:25<00:00, 20.52it/s]\n"
     ]
    },
    {
     "name": "stdout",
     "output_type": "stream",
     "text": [
      "[2/50] Train cost:26s loss: 435.81019/18.94388   ||  Valid cost:2s loss: 108.99391/4.75368\n"
     ]
    },
    {
     "name": "stderr",
     "output_type": "stream",
     "text": [
      "100%|██████████| 533/533 [00:24<00:00, 21.63it/s]\n"
     ]
    },
    {
     "name": "stdout",
     "output_type": "stream",
     "text": [
      "[3/50] Train cost:24s loss: 402.93908/18.74506   ||  Valid cost:2s loss: 98.77228/5.18930\n"
     ]
    },
    {
     "name": "stderr",
     "output_type": "stream",
     "text": [
      "100%|██████████| 533/533 [00:25<00:00, 20.87it/s]\n"
     ]
    },
    {
     "name": "stdout",
     "output_type": "stream",
     "text": [
      "[4/50] Train cost:25s loss: 377.90703/18.86163   ||  Valid cost:2s loss: 118.97264/5.43147\n"
     ]
    },
    {
     "name": "stderr",
     "output_type": "stream",
     "text": [
      "100%|██████████| 533/533 [00:26<00:00, 20.09it/s]\n"
     ]
    },
    {
     "name": "stdout",
     "output_type": "stream",
     "text": [
      "[5/50] Train cost:26s loss: 371.51568/19.00432   ||  Valid cost:2s loss: 98.25122/4.82728\n"
     ]
    },
    {
     "name": "stderr",
     "output_type": "stream",
     "text": [
      "100%|██████████| 533/533 [00:24<00:00, 21.42it/s]\n"
     ]
    },
    {
     "name": "stdout",
     "output_type": "stream",
     "text": [
      "[6/50] Train cost:24s loss: 379.53400/19.80814   ||  Valid cost:2s loss: 96.81511/5.65936\n"
     ]
    },
    {
     "name": "stderr",
     "output_type": "stream",
     "text": [
      "100%|██████████| 533/533 [00:24<00:00, 21.72it/s]\n"
     ]
    },
    {
     "name": "stdout",
     "output_type": "stream",
     "text": [
      "[7/50] Train cost:24s loss: 381.56546/21.34414   ||  Valid cost:2s loss: 96.08084/5.43859\n"
     ]
    },
    {
     "name": "stderr",
     "output_type": "stream",
     "text": [
      "100%|██████████| 533/533 [00:25<00:00, 21.12it/s]\n"
     ]
    },
    {
     "name": "stdout",
     "output_type": "stream",
     "text": [
      "[8/50] Train cost:25s loss: 362.40679/20.07224   ||  Valid cost:2s loss: 86.93305/4.96185\n"
     ]
    },
    {
     "name": "stderr",
     "output_type": "stream",
     "text": [
      "100%|██████████| 533/533 [00:24<00:00, 21.72it/s]\n"
     ]
    },
    {
     "name": "stdout",
     "output_type": "stream",
     "text": [
      "[9/50] Train cost:24s loss: 353.57080/19.87502   ||  Valid cost:2s loss: 94.49540/5.59558\n"
     ]
    },
    {
     "name": "stderr",
     "output_type": "stream",
     "text": [
      "100%|██████████| 533/533 [00:26<00:00, 20.10it/s]\n"
     ]
    },
    {
     "name": "stdout",
     "output_type": "stream",
     "text": [
      "[10/50] Train cost:26s loss: 360.26518/20.09311   ||  Valid cost:2s loss: 98.34340/5.43283\n"
     ]
    },
    {
     "name": "stderr",
     "output_type": "stream",
     "text": [
      "100%|██████████| 533/533 [00:26<00:00, 20.33it/s]\n"
     ]
    },
    {
     "name": "stdout",
     "output_type": "stream",
     "text": [
      "[11/50] Train cost:26s loss: 356.20980/19.99230   ||  Valid cost:2s loss: 90.48602/5.24404\n"
     ]
    },
    {
     "name": "stderr",
     "output_type": "stream",
     "text": [
      "100%|██████████| 533/533 [00:26<00:00, 20.13it/s]\n"
     ]
    },
    {
     "name": "stdout",
     "output_type": "stream",
     "text": [
      "[12/50] Train cost:26s loss: 369.92601/20.52871   ||  Valid cost:2s loss: 90.97051/5.08867\n"
     ]
    },
    {
     "name": "stderr",
     "output_type": "stream",
     "text": [
      "100%|██████████| 533/533 [00:26<00:00, 20.14it/s]\n"
     ]
    },
    {
     "name": "stdout",
     "output_type": "stream",
     "text": [
      "[13/50] Train cost:26s loss: 362.17993/19.98575   ||  Valid cost:2s loss: 93.06680/5.32694\n"
     ]
    },
    {
     "name": "stderr",
     "output_type": "stream",
     "text": [
      "100%|██████████| 533/533 [00:26<00:00, 20.06it/s]\n"
     ]
    },
    {
     "name": "stdout",
     "output_type": "stream",
     "text": [
      "[14/50] Train cost:26s loss: 350.55437/19.51361   ||  Valid cost:2s loss: 88.33535/4.87196\n"
     ]
    },
    {
     "name": "stderr",
     "output_type": "stream",
     "text": [
      "100%|██████████| 533/533 [00:28<00:00, 18.70it/s]\n"
     ]
    },
    {
     "name": "stdout",
     "output_type": "stream",
     "text": [
      "[15/50] Train cost:28s loss: 356.23071/19.65060   ||  Valid cost:2s loss: 91.45022/5.04342\n"
     ]
    },
    {
     "name": "stderr",
     "output_type": "stream",
     "text": [
      "100%|██████████| 533/533 [00:26<00:00, 20.35it/s]\n"
     ]
    },
    {
     "name": "stdout",
     "output_type": "stream",
     "text": [
      "[16/50] Train cost:26s loss: 346.34349/19.23603   ||  Valid cost:2s loss: 88.24498/5.08484\n"
     ]
    },
    {
     "name": "stderr",
     "output_type": "stream",
     "text": [
      "100%|██████████| 533/533 [00:26<00:00, 20.00it/s]\n"
     ]
    },
    {
     "name": "stdout",
     "output_type": "stream",
     "text": [
      "[17/50] Train cost:26s loss: 346.52052/19.11763   ||  Valid cost:2s loss: 87.49853/4.83207\n"
     ]
    },
    {
     "name": "stderr",
     "output_type": "stream",
     "text": [
      "100%|██████████| 533/533 [00:25<00:00, 21.16it/s]\n"
     ]
    },
    {
     "name": "stdout",
     "output_type": "stream",
     "text": [
      "[18/50] Train cost:25s loss: 345.69718/19.66203   ||  Valid cost:2s loss: 90.86036/5.43894\n"
     ]
    },
    {
     "name": "stderr",
     "output_type": "stream",
     "text": [
      "100%|██████████| 533/533 [00:27<00:00, 19.61it/s]\n"
     ]
    },
    {
     "name": "stdout",
     "output_type": "stream",
     "text": [
      "[19/50] Train cost:27s loss: 355.68341/19.76899   ||  Valid cost:2s loss: 88.71165/5.07538\n"
     ]
    },
    {
     "name": "stderr",
     "output_type": "stream",
     "text": [
      "100%|██████████| 533/533 [00:27<00:00, 19.12it/s]\n"
     ]
    },
    {
     "name": "stdout",
     "output_type": "stream",
     "text": [
      "[20/50] Train cost:27s loss: 354.34732/19.63757   ||  Valid cost:2s loss: 87.20139/4.87938\n"
     ]
    },
    {
     "name": "stderr",
     "output_type": "stream",
     "text": [
      "100%|██████████| 533/533 [00:25<00:00, 20.99it/s]\n"
     ]
    },
    {
     "name": "stdout",
     "output_type": "stream",
     "text": [
      "[21/50] Train cost:25s loss: 342.30375/19.31422   ||  Valid cost:2s loss: 86.27868/4.81980\n"
     ]
    },
    {
     "name": "stderr",
     "output_type": "stream",
     "text": [
      "100%|██████████| 533/533 [00:26<00:00, 20.20it/s]\n"
     ]
    },
    {
     "name": "stdout",
     "output_type": "stream",
     "text": [
      "[22/50] Train cost:26s loss: 341.18865/19.19796   ||  Valid cost:2s loss: 86.66946/4.79352\n"
     ]
    },
    {
     "name": "stderr",
     "output_type": "stream",
     "text": [
      "100%|██████████| 533/533 [00:26<00:00, 20.09it/s]\n"
     ]
    },
    {
     "name": "stdout",
     "output_type": "stream",
     "text": [
      "[23/50] Train cost:26s loss: 340.49559/19.10856   ||  Valid cost:2s loss: 85.67345/4.76023\n"
     ]
    },
    {
     "name": "stderr",
     "output_type": "stream",
     "text": [
      "100%|██████████| 533/533 [00:24<00:00, 21.33it/s]\n"
     ]
    },
    {
     "name": "stdout",
     "output_type": "stream",
     "text": [
      "[24/50] Train cost:25s loss: 338.90223/19.03979   ||  Valid cost:2s loss: 85.05439/4.75034\n"
     ]
    },
    {
     "name": "stderr",
     "output_type": "stream",
     "text": [
      "100%|██████████| 533/533 [00:24<00:00, 21.36it/s]\n"
     ]
    },
    {
     "name": "stdout",
     "output_type": "stream",
     "text": [
      "[25/50] Train cost:24s loss: 336.85323/18.93943   ||  Valid cost:2s loss: 85.27398/4.73420\n"
     ]
    },
    {
     "name": "stderr",
     "output_type": "stream",
     "text": [
      "100%|██████████| 533/533 [00:23<00:00, 22.41it/s]\n"
     ]
    },
    {
     "name": "stdout",
     "output_type": "stream",
     "text": [
      "[26/50] Train cost:23s loss: 335.45129/18.89836   ||  Valid cost:2s loss: 84.69013/4.72048\n"
     ]
    },
    {
     "name": "stderr",
     "output_type": "stream",
     "text": [
      "100%|██████████| 533/533 [00:25<00:00, 20.65it/s]\n"
     ]
    },
    {
     "name": "stdout",
     "output_type": "stream",
     "text": [
      "[27/50] Train cost:25s loss: 334.75251/18.88223   ||  Valid cost:2s loss: 84.86921/4.71979\n"
     ]
    },
    {
     "name": "stderr",
     "output_type": "stream",
     "text": [
      "100%|██████████| 533/533 [00:29<00:00, 18.27it/s]\n"
     ]
    },
    {
     "name": "stdout",
     "output_type": "stream",
     "text": [
      "[28/50] Train cost:29s loss: 336.02459/18.85852   ||  Valid cost:2s loss: 85.53596/4.71882\n"
     ]
    },
    {
     "name": "stderr",
     "output_type": "stream",
     "text": [
      "100%|██████████| 533/533 [00:25<00:00, 20.51it/s]\n"
     ]
    },
    {
     "name": "stdout",
     "output_type": "stream",
     "text": [
      "[29/50] Train cost:26s loss: 335.08689/18.82129   ||  Valid cost:2s loss: 84.47006/4.69919\n"
     ]
    },
    {
     "name": "stderr",
     "output_type": "stream",
     "text": [
      "100%|██████████| 533/533 [00:24<00:00, 21.54it/s]\n"
     ]
    },
    {
     "name": "stdout",
     "output_type": "stream",
     "text": [
      "[30/50] Train cost:24s loss: 333.87880/18.73396   ||  Valid cost:2s loss: 84.03113/4.67814\n"
     ]
    },
    {
     "name": "stderr",
     "output_type": "stream",
     "text": [
      "100%|██████████| 533/533 [00:26<00:00, 19.89it/s]\n"
     ]
    },
    {
     "name": "stdout",
     "output_type": "stream",
     "text": [
      "[31/50] Train cost:26s loss: 333.47178/18.68336   ||  Valid cost:2s loss: 84.07872/4.67331\n"
     ]
    },
    {
     "name": "stderr",
     "output_type": "stream",
     "text": [
      "100%|██████████| 533/533 [00:26<00:00, 19.99it/s]\n"
     ]
    },
    {
     "name": "stdout",
     "output_type": "stream",
     "text": [
      "[32/50] Train cost:26s loss: 333.41050/18.67204   ||  Valid cost:2s loss: 83.87197/4.66498\n"
     ]
    },
    {
     "name": "stderr",
     "output_type": "stream",
     "text": [
      "100%|██████████| 533/533 [00:23<00:00, 22.52it/s]\n"
     ]
    },
    {
     "name": "stdout",
     "output_type": "stream",
     "text": [
      "[33/50] Train cost:23s loss: 334.22247/18.63151   ||  Valid cost:2s loss: 84.92620/4.65854\n"
     ]
    },
    {
     "name": "stderr",
     "output_type": "stream",
     "text": [
      "100%|██████████| 533/533 [00:27<00:00, 19.66it/s]\n"
     ]
    },
    {
     "name": "stdout",
     "output_type": "stream",
     "text": [
      "[34/50] Train cost:27s loss: 334.74379/18.62947   ||  Valid cost:2s loss: 85.38857/4.66197\n"
     ]
    },
    {
     "name": "stderr",
     "output_type": "stream",
     "text": [
      "100%|██████████| 533/533 [00:27<00:00, 19.56it/s]\n"
     ]
    },
    {
     "name": "stdout",
     "output_type": "stream",
     "text": [
      "[35/50] Train cost:27s loss: 336.23806/18.62579   ||  Valid cost:2s loss: 85.69870/4.65805\n"
     ]
    },
    {
     "name": "stderr",
     "output_type": "stream",
     "text": [
      "100%|██████████| 533/533 [00:26<00:00, 20.16it/s]\n"
     ]
    },
    {
     "name": "stdout",
     "output_type": "stream",
     "text": [
      "[36/50] Train cost:26s loss: 335.38086/18.64099   ||  Valid cost:2s loss: 84.51762/4.64698\n"
     ]
    },
    {
     "name": "stderr",
     "output_type": "stream",
     "text": [
      "100%|██████████| 533/533 [00:27<00:00, 19.51it/s]\n"
     ]
    },
    {
     "name": "stdout",
     "output_type": "stream",
     "text": [
      "[37/50] Train cost:27s loss: 334.03922/18.58272   ||  Valid cost:2s loss: 83.93797/4.63326\n"
     ]
    },
    {
     "name": "stderr",
     "output_type": "stream",
     "text": [
      "100%|██████████| 533/533 [00:25<00:00, 20.58it/s]\n"
     ]
    },
    {
     "name": "stdout",
     "output_type": "stream",
     "text": [
      "[38/50] Train cost:25s loss: 332.56251/18.53450   ||  Valid cost:2s loss: 83.59858/4.62524\n"
     ]
    },
    {
     "name": "stderr",
     "output_type": "stream",
     "text": [
      "100%|██████████| 533/533 [00:25<00:00, 20.89it/s]\n"
     ]
    },
    {
     "name": "stdout",
     "output_type": "stream",
     "text": [
      "[39/50] Train cost:25s loss: 331.72054/18.51644   ||  Valid cost:2s loss: 83.59698/4.62269\n"
     ]
    },
    {
     "name": "stderr",
     "output_type": "stream",
     "text": [
      "100%|██████████| 533/533 [00:26<00:00, 19.78it/s]\n"
     ]
    },
    {
     "name": "stdout",
     "output_type": "stream",
     "text": [
      "[40/50] Train cost:26s loss: 330.64805/18.49096   ||  Valid cost:2s loss: 83.49191/4.61527\n"
     ]
    },
    {
     "name": "stderr",
     "output_type": "stream",
     "text": [
      "100%|██████████| 533/533 [00:25<00:00, 20.65it/s]\n"
     ]
    },
    {
     "name": "stdout",
     "output_type": "stream",
     "text": [
      "[41/50] Train cost:25s loss: 328.81931/18.45371   ||  Valid cost:2s loss: 83.55405/4.61037\n"
     ]
    },
    {
     "name": "stderr",
     "output_type": "stream",
     "text": [
      "100%|██████████| 533/533 [00:26<00:00, 20.14it/s]\n"
     ]
    },
    {
     "name": "stdout",
     "output_type": "stream",
     "text": [
      "[42/50] Train cost:26s loss: 329.47150/18.45405   ||  Valid cost:2s loss: 83.74137/4.61280\n"
     ]
    },
    {
     "name": "stderr",
     "output_type": "stream",
     "text": [
      "100%|██████████| 533/533 [00:25<00:00, 21.27it/s]\n"
     ]
    },
    {
     "name": "stdout",
     "output_type": "stream",
     "text": [
      "[43/50] Train cost:25s loss: 328.37705/18.43438   ||  Valid cost:2s loss: 83.68357/4.60503\n"
     ]
    },
    {
     "name": "stderr",
     "output_type": "stream",
     "text": [
      "100%|██████████| 533/533 [00:26<00:00, 20.07it/s]\n"
     ]
    },
    {
     "name": "stdout",
     "output_type": "stream",
     "text": [
      "[44/50] Train cost:26s loss: 328.64273/18.45502   ||  Valid cost:2s loss: 83.38757/4.61322\n"
     ]
    },
    {
     "name": "stderr",
     "output_type": "stream",
     "text": [
      "100%|██████████| 533/533 [00:26<00:00, 20.33it/s]\n"
     ]
    },
    {
     "name": "stdout",
     "output_type": "stream",
     "text": [
      "[45/50] Train cost:26s loss: 329.24910/18.43787   ||  Valid cost:2s loss: 83.43726/4.61370\n"
     ]
    },
    {
     "name": "stderr",
     "output_type": "stream",
     "text": [
      "100%|██████████| 533/533 [00:24<00:00, 21.65it/s]\n"
     ]
    },
    {
     "name": "stdout",
     "output_type": "stream",
     "text": [
      "[46/50] Train cost:24s loss: 328.52354/18.44124   ||  Valid cost:2s loss: 83.76014/4.60869\n"
     ]
    },
    {
     "name": "stderr",
     "output_type": "stream",
     "text": [
      "100%|██████████| 533/533 [00:27<00:00, 19.65it/s]\n"
     ]
    },
    {
     "name": "stdout",
     "output_type": "stream",
     "text": [
      "[47/50] Train cost:27s loss: 328.17828/18.43557   ||  Valid cost:2s loss: 83.10671/4.60627\n"
     ]
    },
    {
     "name": "stderr",
     "output_type": "stream",
     "text": [
      "100%|██████████| 533/533 [00:27<00:00, 19.30it/s]\n"
     ]
    },
    {
     "name": "stdout",
     "output_type": "stream",
     "text": [
      "[48/50] Train cost:27s loss: 328.86490/18.43950   ||  Valid cost:2s loss: 83.21167/4.60438\n"
     ]
    },
    {
     "name": "stderr",
     "output_type": "stream",
     "text": [
      "100%|██████████| 533/533 [00:26<00:00, 20.35it/s]\n"
     ]
    },
    {
     "name": "stdout",
     "output_type": "stream",
     "text": [
      "[49/50] Train cost:26s loss: 328.76638/18.43690   ||  Valid cost:2s loss: 83.04593/4.60224\n"
     ]
    },
    {
     "name": "stderr",
     "output_type": "stream",
     "text": [
      "100%|██████████| 533/533 [00:27<00:00, 19.71it/s]\n"
     ]
    },
    {
     "name": "stdout",
     "output_type": "stream",
     "text": [
      "[50/50] Train cost:27s loss: 328.11462/18.43408   ||  Valid cost:2s loss: 83.54688/4.60808\n",
      "训练完成\n",
      "测试集上预测：\n"
     ]
    },
    {
     "name": "stderr",
     "output_type": "stream",
     "text": [
      "100%|██████████| 86/86 [00:01<00:00, 53.18it/s]\n"
     ]
    },
    {
     "name": "stdout",
     "output_type": "stream",
     "text": [
      "6h APE： 38.589675380111544\n",
      "12h APE： 81.67666828407347\n",
      "18h APE： 131.1015203232273\n",
      "24h APE： 188.08918189553893\n"
     ]
    },
    {
     "data": {
      "text/plain": [
       "66"
      ]
     },
     "execution_count": 6,
     "metadata": {},
     "output_type": "execute_result"
    }
   ],
   "source": [
    "train(model_save_path='./model/model_demo.pth')\n",
    "gc.collect()"
   ]
  },
  {
   "cell_type": "code",
   "execution_count": 7,
   "id": "ca2a91b5-51f2-4cfd-9246-e22d72d1ab34",
   "metadata": {},
   "outputs": [],
   "source": [
    "def test_2018_2021(cfg1=TC_Encoder_config, cfg2=Map_Encoder_config, checkpoint_folder='./model/',\n",
    "                   xtc_path='./CMA_dataset/xtc.npy', ytc_path='./CMA_dataset/ytc.npy', gph_path='./gph.npy',\n",
    "                   batch_size=32, is_save=True, checkpoint='./model/model_demo.pth'):\n",
    "    warnings.filterwarnings(\"ignore\")  # 关闭warning\n",
    "\n",
    "    # 载入完整数据集\n",
    "    print('载入完整数据集...')\n",
    "    xtc = np.load(xtc_path, allow_pickle=True).astype(float)\n",
    "    ytc = np.load(ytc_path, allow_pickle=True).astype(float)\n",
    "    gph = np.load(gph_path, allow_pickle=True).astype(float)\n",
    "    test_index = [*range(22227, 24614)] # 2018年至2021年的台风数据索引\n",
    "    standard = xtc[:, -1, :2].reshape(-1, 1, 2)\n",
    "\n",
    "    # 归一化\n",
    "    xtc, _ = data_scaler(xtc)\n",
    "    gph, _ = data_scaler(gph)\n",
    "\n",
    "    # 打包数据集\n",
    "    test_dataset = DataLoader(TrainLoader(xtc[test_index], ytc[test_index], gph[test_index], standard[test_index]),\n",
    "                              batch_size=batch_size, shuffle=False)\n",
    "    del xtc, ytc, standard, gph\n",
    "\n",
    "    model = DBFNet(cfg1, cfg2)\n",
    "    if torch.cuda.is_available():\n",
    "        model = model.cuda()\n",
    "    state_dict = torch.load(checkpoint)\n",
    "    model.load_state_dict(state_dict)\n",
    "\n",
    "    # 在测试集上预测\n",
    "    print('测试集上预测：')\n",
    "    model.eval()\n",
    "    pred_save, truth_save, standard_save = [], [], []\n",
    "    for X1, X2, Y1, _, S in tqdm(test_dataset):\n",
    "        if torch.cuda.is_available():\n",
    "            x1 = X1.float().cuda()\n",
    "            x2 = X2.float().cuda()\n",
    "            y1 = Y1.float().cuda()\n",
    "            s = S.float().cuda()\n",
    "        else:\n",
    "            x1 = X1.float()\n",
    "            x2 = X2.float()\n",
    "            y1 = Y1.float()\n",
    "            s = S.float()\n",
    "        pred, _ = model(x1, x2)\n",
    "        pred_save.append(pred.detach().cpu().numpy())\n",
    "        truth_save.append(y1.detach().cpu().numpy())\n",
    "        standard_save.append(s.detach().cpu().numpy())\n",
    "    # 做反归一化\n",
    "    pred_save = np.concatenate(pred_save, axis=0)\n",
    "    truth_save = np.concatenate(truth_save, axis=0)\n",
    "    standard_save = np.concatenate(standard_save, axis=0)\n",
    "    # pred_save = data_scaler_inverse(pred_save, y_scaler)\n",
    "    # 计算最终预测结果\n",
    "    pred = pred_save + standard_save\n",
    "    truth = truth_save + standard_save\n",
    "    for i in range(1, 5):\n",
    "        pred_lat, pred_lon, truth_lat, truth_lon = pred[:, i - 1, 0], pred[:, i - 1, 1], truth[:, i - 1, 0], truth[:,\n",
    "                                                                                                             i - 1, 1]\n",
    "        distance = compute_distance_km(pred_lat, pred_lon, truth_lat, truth_lon)\n",
    "        print(str(i * 6) + 'h APE：', distance.mean())"
   ]
  },
  {
   "cell_type": "code",
   "execution_count": 8,
   "id": "f6ff5cca-fffd-48de-a477-1272e44ac18f",
   "metadata": {},
   "outputs": [
    {
     "name": "stdout",
     "output_type": "stream",
     "text": [
      "载入完整数据集...\n",
      "测试集上预测：\n"
     ]
    },
    {
     "name": "stderr",
     "output_type": "stream",
     "text": [
      "100%|██████████| 75/75 [00:01<00:00, 66.78it/s]"
     ]
    },
    {
     "name": "stdout",
     "output_type": "stream",
     "text": [
      "6h APE： 39.73501210493949\n",
      "12h APE： 83.73567743841966\n",
      "18h APE： 133.86184621412266\n",
      "24h APE： 190.3670649653396\n"
     ]
    },
    {
     "name": "stderr",
     "output_type": "stream",
     "text": [
      "\n"
     ]
    }
   ],
   "source": [
    "test_2018_2021()"
   ]
  }
 ],
 "metadata": {
  "kernelspec": {
   "display_name": "Python 3 (ipykernel)",
   "language": "python",
   "name": "python3"
  },
  "language_info": {
   "codemirror_mode": {
    "name": "ipython",
    "version": 3
   },
   "file_extension": ".py",
   "mimetype": "text/x-python",
   "name": "python",
   "nbconvert_exporter": "python",
   "pygments_lexer": "ipython3",
   "version": "3.8.10"
  }
 },
 "nbformat": 4,
 "nbformat_minor": 5
}
